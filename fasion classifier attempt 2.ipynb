{
 "cells": [
  {
   "cell_type": "code",
   "execution_count": 92,
   "metadata": {},
   "outputs": [],
   "source": [
    "import pandas as pd\n",
    "import numpy as np\n",
    "\n",
    "import matplotlib.pyplot as plt\n",
    "import random\n",
    "RANDOM_SEED = 42\n",
    "\n",
    "np.random.seed(RANDOM_SEED)\n"
   ]
  },
  {
   "cell_type": "code",
   "execution_count": 93,
   "metadata": {},
   "outputs": [],
   "source": [
    "train = pd.read_csv(r\"C:\\Users\\User\\Downloads\\Week-4-Project\\Week-4-Project\\fashion-mnist_train.csv\")\n",
    "test = pd.read_csv(r\"C:\\Users\\User\\Downloads\\Week-4-Project\\Week-4-Project\\fashion-mnist_test.csv\")"
   ]
  },
  {
   "attachments": {},
   "cell_type": "markdown",
   "metadata": {},
   "source": [
    "Data Transformation"
   ]
  },
  {
   "cell_type": "code",
   "execution_count": 94,
   "metadata": {},
   "outputs": [],
   "source": [
    "X_train = np.array(train.drop('label',axis=1)).T/255\n",
    "X_test =np.array(test.drop('label',axis=1)).T/255\n",
    "X_train = X_train.astype(int)\n",
    "X_test = X_test.astype(int)"
   ]
  },
  {
   "cell_type": "code",
   "execution_count": 95,
   "metadata": {},
   "outputs": [
    {
     "data": {
      "text/plain": [
       "(10, 60000)"
      ]
     },
     "execution_count": 95,
     "metadata": {},
     "output_type": "execute_result"
    }
   ],
   "source": [
    "Y_train = np.zeros((10,60000)).astype(int)\n",
    "y = np.array(train['label'])\n",
    "for i in range(60000):\n",
    "  clas = y[i]\n",
    "  Y_train[:,i][clas] = 1\n",
    "Y_train.shape"
   ]
  },
  {
   "cell_type": "code",
   "execution_count": 96,
   "metadata": {},
   "outputs": [
    {
     "data": {
      "text/plain": [
       "(10, 60000)"
      ]
     },
     "execution_count": 96,
     "metadata": {},
     "output_type": "execute_result"
    }
   ],
   "source": [
    "Y_test = np.zeros((10,10000)).astype(int)\n",
    "y1 = np.array(test['label'])\n",
    "for i in range(10000):\n",
    "  clas = y1[i]\n",
    "  Y_train[:,i][clas] = 1\n",
    "Y_train.shape"
   ]
  },
  {
   "cell_type": "code",
   "execution_count": 97,
   "metadata": {},
   "outputs": [
    {
     "name": "stdout",
     "output_type": "stream",
     "text": [
      "shape of X_train : (784, 60000) int32\n",
      "shape of Y_train : (10, 60000) int32\n",
      "shape of X_test : (784, 10000) int32\n",
      "shape of Y_test : (10, 10000) int32\n"
     ]
    }
   ],
   "source": [
    "print(\"shape of X_train :\", X_train.shape, X_train.dtype)\n",
    "print(\"shape of Y_train :\", Y_train.shape, Y_train.dtype)\n",
    "print(\"shape of X_test :\", X_test.shape, X_test.dtype)\n",
    "print(\"shape of Y_test :\", Y_test.shape, Y_test.dtype)"
   ]
  },
  {
   "cell_type": "code",
   "execution_count": 109,
   "metadata": {},
   "outputs": [
    {
     "data": {
      "text/plain": [
       "array([0, 1, 0, ..., 0, 0, 0])"
      ]
     },
     "execution_count": 109,
     "metadata": {},
     "output_type": "execute_result"
    }
   ],
   "source": [
    "Y_train[1]"
   ]
  },
  {
   "attachments": {},
   "cell_type": "markdown",
   "metadata": {},
   "source": [
    "Model Components"
   ]
  },
  {
   "cell_type": "code",
   "execution_count": 98,
   "metadata": {},
   "outputs": [],
   "source": [
    "#Initalising Parameters\n",
    "def initialise_parameters():\n",
    "    W1 = np.random.rand(10, 784) - 0.5\n",
    "    b1 = np.random.rand(10, 1) - 0.5\n",
    "    W2 = np.random.rand(10, 10) - 0.5\n",
    "    b2 = np.random.rand(10, 1) - 0.5\n",
    "    return W1, b1, W2, b2"
   ]
  },
  {
   "cell_type": "code",
   "execution_count": 99,
   "metadata": {},
   "outputs": [],
   "source": [
    "#Defining required functions\n",
    "\n",
    "def ReLU(Z):\n",
    "    return np.maximum(Z, 0)\n",
    "\n",
    "def softmax(Z):\n",
    "    A = np.exp(Z) / sum(np.exp(Z))\n",
    "    return A\n",
    "\n",
    "def ReLU_deriv(Z):\n",
    "    return Z > 0"
   ]
  },
  {
   "cell_type": "code",
   "execution_count": 100,
   "metadata": {},
   "outputs": [],
   "source": [
    "#Defining Model Components\n",
    "\n",
    "def forward_prop(W1, b1, W2, b2, X):\n",
    "    \n",
    "    Z1 = W1.dot(X) + b1\n",
    "    A1 = ReLU(Z1)\n",
    "    Z2 = W2.dot(A1) + b2\n",
    "    A2 = softmax(Z2)\n",
    "\n",
    "    return Z1, A1, Z2, A2\n",
    "\n",
    "\n",
    "def cost_function(A2, Y):\n",
    "    m = Y.shape[1]\n",
    "    \n",
    "    cost = -(1/m)*np.sum(Y*np.log(A2))\n",
    "    \n",
    "    #cost = -(1/m)*np.sum(np.sum(y*np.log(a2, 0), 1))\n",
    "    \n",
    "    return cost\n",
    "\n",
    "def backward_prop(x, y, W1, W2, Z1, A1, Z2, A2): #Z1, A1, Z2, A2, W1, W2, X, Y\n",
    "    \n",
    "    m = x.shape[1]\n",
    "    \n",
    "    dz2 = A2 - y\n",
    "    dw2 = (1/m)*np.dot(dz2, A1.T)\n",
    "    db2 = (1/m)*np.sum(dz2, axis = 1, keepdims = True)\n",
    "    \n",
    "    dz1 = (1/m)*np.dot(W2.T, dz2)*ReLU_deriv(A1)\n",
    "    dw1 = (1/m)*np.dot(dz1, x.T)\n",
    "    db1 = (1/m)*np.sum(dz1, axis = 1, keepdims = True)\n",
    "    \n",
    "    return dw1, db1, dw2, db2\n",
    "     "
   ]
  },
  {
   "cell_type": "code",
   "execution_count": 101,
   "metadata": {},
   "outputs": [],
   "source": [
    "#Updating \n",
    "\n",
    "def updateparams(W1, b1, W2, b2, dW1, db1, dW2, db2, alpha):\n",
    "    W1 = W1 - alpha * dW1\n",
    "    b1 = b1 - alpha * db1    \n",
    "    W2 = W2 - alpha * dW2  \n",
    "    b2 = b2 - alpha * db2    \n",
    "    return W1, b1, W2, b2"
   ]
  },
  {
   "attachments": {},
   "cell_type": "markdown",
   "metadata": {},
   "source": [
    "Model Code"
   ]
  },
  {
   "cell_type": "code",
   "execution_count": 102,
   "metadata": {},
   "outputs": [],
   "source": [
    "def get_predictions(A2):\n",
    "    return np.argmax(A2, 0)\n",
    "\n",
    "def get_accuracy(predictions, Y):\n",
    "    return np.sum(predictions == Y) / Y.size\n",
    "\n",
    "def gradient_descent(X, Y, iterations, alpha):\n",
    "    W1, b1, W2, b2 = initialise_parameters()\n",
    "    improvement = []\n",
    "    for i in range(iterations):\n",
    "        Z1, A1, Z2, A2 = forward_prop(W1, b1, W2, b2, X)\n",
    "        dW1, db1, dW2, db2 = backward_prop(X, Y, W1, W2, Z1, A1, Z2, A2)\n",
    "        W1, b1, W2, b2 = updateparams(W1, b1, W2, b2, dW1, db1, dW2, db2, alpha)\n",
    "        if i % 10 == 0:\n",
    "            print(\"Iteration: \", i)\n",
    "            predictions = get_predictions(A2)\n",
    "            print(\"The accurary is:  \", (get_accuracy(predictions, Y)*100), \"%\")\n",
    "            acc = get_accuracy(predictions, Y) *100\n",
    "            improvement.append(acc)\n",
    "    return W1, b1, W2, b2"
   ]
  },
  {
   "cell_type": "code",
   "execution_count": 105,
   "metadata": {},
   "outputs": [
    {
     "name": "stdout",
     "output_type": "stream",
     "text": [
      "Iteration:  0\n",
      "The accurary is:   3.7144999999999997 %\n",
      "Iteration:  10\n",
      "The accurary is:   19.487333333333336 %\n",
      "Iteration:  20\n",
      "The accurary is:   3.0246666666666666 %\n",
      "Iteration:  30\n",
      "The accurary is:   43.35183333333333 %\n",
      "Iteration:  40\n",
      "The accurary is:   51.478500000000004 %\n",
      "Iteration:  50\n",
      "The accurary is:   4.2604999999999995 %\n",
      "Iteration:  60\n",
      "The accurary is:   0.004333333333333333 %\n",
      "Iteration:  70\n",
      "The accurary is:   43.75966666666667 %\n",
      "Iteration:  80\n",
      "The accurary is:   24.15266666666667 %\n",
      "Iteration:  90\n",
      "The accurary is:   0.7501666666666666 %\n",
      "Iteration:  100\n",
      "The accurary is:   0.0 %\n",
      "Iteration:  110\n",
      "The accurary is:   4.079166666666667 %\n",
      "Iteration:  120\n",
      "The accurary is:   0.9375 %\n",
      "Iteration:  130\n",
      "The accurary is:   0.7661666666666667 %\n",
      "Iteration:  140\n",
      "The accurary is:   5.183999999999999 %\n",
      "Iteration:  150\n",
      "The accurary is:   0.0 %\n",
      "Iteration:  160\n",
      "The accurary is:   0.022000000000000002 %\n",
      "Iteration:  170\n",
      "The accurary is:   5.831666666666667 %\n",
      "Iteration:  180\n",
      "The accurary is:   4.651666666666666 %\n",
      "Iteration:  190\n",
      "The accurary is:   1.6073333333333333 %\n",
      "Iteration:  200\n",
      "The accurary is:   2.4323333333333332 %\n",
      "Iteration:  210\n",
      "The accurary is:   10.4685 %\n",
      "Iteration:  220\n",
      "The accurary is:   0.08466666666666667 %\n",
      "Iteration:  230\n",
      "The accurary is:   0.6683333333333333 %\n",
      "Iteration:  240\n",
      "The accurary is:   0.0 %\n",
      "Iteration:  250\n",
      "The accurary is:   0.24350000000000002 %\n",
      "Iteration:  260\n",
      "The accurary is:   10.726833333333333 %\n"
     ]
    },
    {
     "name": "stderr",
     "output_type": "stream",
     "text": [
      "C:\\Users\\User\\AppData\\Local\\Temp\\ipykernel_54384\\1782104878.py:7: RuntimeWarning: overflow encountered in exp\n",
      "  A = np.exp(Z) / sum(np.exp(Z))\n",
      "C:\\Users\\User\\AppData\\Local\\Temp\\ipykernel_54384\\1782104878.py:7: RuntimeWarning: invalid value encountered in true_divide\n",
      "  A = np.exp(Z) / sum(np.exp(Z))\n"
     ]
    },
    {
     "name": "stdout",
     "output_type": "stream",
     "text": [
      "Iteration:  270\n",
      "The accurary is:   88.4985 %\n",
      "Iteration:  280\n",
      "The accurary is:   88.4985 %\n",
      "Iteration:  290\n",
      "The accurary is:   88.4985 %\n",
      "Iteration:  300\n",
      "The accurary is:   88.4985 %\n",
      "Iteration:  310\n",
      "The accurary is:   88.4985 %\n",
      "Iteration:  320\n",
      "The accurary is:   88.4985 %\n",
      "Iteration:  330\n",
      "The accurary is:   88.4985 %\n",
      "Iteration:  340\n",
      "The accurary is:   88.4985 %\n",
      "Iteration:  350\n",
      "The accurary is:   88.4985 %\n",
      "Iteration:  360\n",
      "The accurary is:   88.4985 %\n",
      "Iteration:  370\n",
      "The accurary is:   88.4985 %\n",
      "Iteration:  380\n",
      "The accurary is:   88.4985 %\n",
      "Iteration:  390\n",
      "The accurary is:   88.4985 %\n",
      "Iteration:  400\n",
      "The accurary is:   88.4985 %\n",
      "Iteration:  410\n",
      "The accurary is:   88.4985 %\n",
      "Iteration:  420\n",
      "The accurary is:   88.4985 %\n",
      "Iteration:  430\n",
      "The accurary is:   88.4985 %\n",
      "Iteration:  440\n",
      "The accurary is:   88.4985 %\n",
      "Iteration:  450\n",
      "The accurary is:   88.4985 %\n",
      "Iteration:  460\n",
      "The accurary is:   88.4985 %\n",
      "Iteration:  470\n",
      "The accurary is:   88.4985 %\n",
      "Iteration:  480\n",
      "The accurary is:   88.4985 %\n",
      "Iteration:  490\n",
      "The accurary is:   88.4985 %\n"
     ]
    }
   ],
   "source": [
    "W1, b1, W2, b2 = gradient_descent(X_train, Y_train, 500, 10)"
   ]
  },
  {
   "attachments": {},
   "cell_type": "markdown",
   "metadata": {},
   "source": [
    "The model has 88% accuracy on Train set."
   ]
  }
 ],
 "metadata": {
  "kernelspec": {
   "display_name": "base",
   "language": "python",
   "name": "python3"
  },
  "language_info": {
   "codemirror_mode": {
    "name": "ipython",
    "version": 3
   },
   "file_extension": ".py",
   "mimetype": "text/x-python",
   "name": "python",
   "nbconvert_exporter": "python",
   "pygments_lexer": "ipython3",
   "version": "3.9.13"
  },
  "orig_nbformat": 4,
  "vscode": {
   "interpreter": {
    "hash": "f08154012ddadd8e950e6e9e035c7a7b32c136e7647e9b7c77e02eb723a8bedb"
   }
  }
 },
 "nbformat": 4,
 "nbformat_minor": 2
}
