{
 "cells": [
  {
   "cell_type": "code",
   "execution_count": 1,
   "metadata": {},
   "outputs": [],
   "source": [
    "import pandas as pd\n",
    "import numpy as np\n",
    "\n",
    "import matplotlib.pyplot as plt\n",
    "import random"
   ]
  },
  {
   "cell_type": "code",
   "execution_count": 52,
   "metadata": {},
   "outputs": [],
   "source": [
    "train = pd.read_csv(r\"C:\\Users\\User\\Downloads\\Week-4-Project\\Week-4-Project\\fashion-mnist_train.csv\")\n",
    "test = pd.read_csv(r\"C:\\Users\\User\\Downloads\\Week-4-Project\\Week-4-Project\\fashion-mnist_test.csv\")"
   ]
  },
  {
   "attachments": {},
   "cell_type": "markdown",
   "metadata": {},
   "source": [
    "Data formatting"
   ]
  },
  {
   "cell_type": "code",
   "execution_count": 3,
   "metadata": {},
   "outputs": [
    {
     "data": {
      "text/plain": [
       "(60000, 785)"
      ]
     },
     "execution_count": 3,
     "metadata": {},
     "output_type": "execute_result"
    }
   ],
   "source": [
    "train.shape"
   ]
  },
  {
   "cell_type": "code",
   "execution_count": 53,
   "metadata": {},
   "outputs": [
    {
     "data": {
      "text/plain": [
       "(10000, 785)"
      ]
     },
     "execution_count": 53,
     "metadata": {},
     "output_type": "execute_result"
    }
   ],
   "source": [
    "test.shape"
   ]
  },
  {
   "cell_type": "code",
   "execution_count": 5,
   "metadata": {},
   "outputs": [],
   "source": [
    "train = np.array(train)\n",
    "m, n = train.shape\n",
    "np.random.shuffle(train) # shuffle before splitting into dev and training sets\n",
    "\n"
   ]
  },
  {
   "cell_type": "code",
   "execution_count": 39,
   "metadata": {},
   "outputs": [
    {
     "data": {
      "text/plain": [
       "(60000, 785)"
      ]
     },
     "execution_count": 39,
     "metadata": {},
     "output_type": "execute_result"
    }
   ],
   "source": [
    "train.shape"
   ]
  },
  {
   "cell_type": "code",
   "execution_count": 54,
   "metadata": {},
   "outputs": [],
   "source": [
    "test = np.array(test)\n",
    "mt, nt = test.shape"
   ]
  },
  {
   "cell_type": "code",
   "execution_count": 55,
   "metadata": {},
   "outputs": [
    {
     "data": {
      "text/plain": [
       "(10000, 785)"
      ]
     },
     "execution_count": 55,
     "metadata": {},
     "output_type": "execute_result"
    }
   ],
   "source": [
    "test.shape\n"
   ]
  },
  {
   "cell_type": "code",
   "execution_count": 6,
   "metadata": {},
   "outputs": [],
   "source": [
    "dev = train[0:1000].T\n",
    "Y_dev = dev[0]\n",
    "X_dev = dev[1:n]\n",
    "X_dev = X_dev / 255.\n",
    "\n",
    "train = train[1000:m].T\n",
    "Y_train = train[0]\n",
    "X_train = train[1:n]\n",
    "X_train = X_train / 255.\n",
    "_,m_train = X_train.shape"
   ]
  },
  {
   "cell_type": "code",
   "execution_count": 56,
   "metadata": {},
   "outputs": [],
   "source": [
    "test = test.T\n",
    "Y_test = test[0]\n",
    "X_test = test[1:mt]\n"
   ]
  },
  {
   "cell_type": "code",
   "execution_count": 45,
   "metadata": {},
   "outputs": [
    {
     "data": {
      "text/plain": [
       "(60000, 785)"
      ]
     },
     "execution_count": 45,
     "metadata": {},
     "output_type": "execute_result"
    }
   ],
   "source": [
    "train.shape"
   ]
  },
  {
   "cell_type": "code",
   "execution_count": 8,
   "metadata": {},
   "outputs": [
    {
     "data": {
      "text/plain": [
       "(785, 1000)"
      ]
     },
     "execution_count": 8,
     "metadata": {},
     "output_type": "execute_result"
    }
   ],
   "source": [
    "dev.shape"
   ]
  },
  {
   "cell_type": "code",
   "execution_count": 13,
   "metadata": {},
   "outputs": [
    {
     "data": {
      "text/plain": [
       "(784,)"
      ]
     },
     "execution_count": 13,
     "metadata": {},
     "output_type": "execute_result"
    }
   ],
   "source": [
    "X_train[:, 0].shape\n",
    "#Hence, one column has 784 rows, which means each column corrosponds to one example."
   ]
  },
  {
   "attachments": {},
   "cell_type": "markdown",
   "metadata": {},
   "source": [
    "Building Model"
   ]
  },
  {
   "cell_type": "code",
   "execution_count": 15,
   "metadata": {},
   "outputs": [],
   "source": [
    "def init_params():\n",
    "    W1 = np.random.rand(10, 784) - 0.5\n",
    "    b1 = np.random.rand(10, 1) - 0.5\n",
    "    W2 = np.random.rand(10, 10) - 0.5\n",
    "    b2 = np.random.rand(10, 1) - 0.5\n",
    "    return W1, b1, W2, b2\n",
    "#Initialising weights and biases randomly\n",
    "\n",
    "def ReLU(Z):\n",
    "    return np.maximum(Z, 0)\n",
    "#Activation function relu: returns positive value for positive input, otherwise 0\n",
    "def softmax(Z):\n",
    "    A = np.exp(Z) / sum(np.exp(Z))\n",
    "    return A\n",
    "    #For standardising values between 0 and 1 \n",
    "def ReLU_deriv(Z):\n",
    "    return Z > 0\n",
    "    #For backprop, it sorts of \"undoes\" the activation function during back propogation"
   ]
  },
  {
   "cell_type": "code",
   "execution_count": 62,
   "metadata": {},
   "outputs": [],
   "source": [
    "def forward_prop(W1, b1, W2, b2, X): #Z = WA + B\n",
    "    Z1 = W1.dot(X) + b1\n",
    "    A1 = ReLU(Z1)\n",
    "    Z2 = W2.dot(A1) + b2\n",
    "    A2 = softmax(Z2)\n",
    "    return Z1, A1, Z2, A2\n",
    "\n",
    "def one_hot(Y): #It converts data categorically to ensure better predictions. It works like a Truth table of 0s and 1s. In our case, it is used to determine errors.\n",
    "    one_hot_Y = np.zeros((Y.size, Y.max() + 1))\n",
    "    one_hot_Y[np.arange(Y.size), Y] = 1\n",
    "    one_hot_Y = one_hot_Y.T\n",
    "    return one_hot_Y\n",
    "\n",
    "\n",
    "def backward_prop(Z1, A1, Z2, A2, W1, W2, X, Y): #Measurement of errors Z, error due to W and B so Weights and biases can be adjusted accordingly.\n",
    "    one_hot_Y = one_hot(Y)\n",
    "    dZ2 = A2 - one_hot_Y #Onehot will tell backprop if prediction was right or not and measure the error accordingly. \n",
    "    dW2 = 1 / m * dZ2.dot(A1.T)\n",
    "    db2 = 1 / m * np.sum(dZ2)\n",
    "    dZ1 = W2.T.dot(dZ2) * ReLU_deriv(Z1)\n",
    "    dW1 = 1 / m * dZ1.dot(X.T)\n",
    "    db1 = 1 / m * np.sum(dZ1)\n",
    "    return dW1, db1, dW2, db2"
   ]
  },
  {
   "cell_type": "code",
   "execution_count": 63,
   "metadata": {},
   "outputs": [],
   "source": [
    "\n",
    "def update_params(W1, b1, W2, b2, dW1, db1, dW2, db2, alpha): #Updating Params in accordance with error and hyperparameter alpha (learning rate).\n",
    "    W1 = W1 - alpha * dW1\n",
    "    b1 = b1 - alpha * db1    \n",
    "    W2 = W2 - alpha * dW2  \n",
    "    b2 = b2 - alpha * db2    \n",
    "    return W1, b1, W2, b2"
   ]
  },
  {
   "cell_type": "code",
   "execution_count": 16,
   "metadata": {},
   "outputs": [],
   "source": [
    "def get_predictions(A2):\n",
    "    return np.argmax(A2, 0)\n",
    "\n",
    "def get_accuracy(predictions, Y):\n",
    "    print(predictions, Y)\n",
    "    return np.sum(predictions == Y) / Y.size\n",
    "\n",
    "def gradient_descent(X, Y, alpha, iterations): #The final Model with everything together.\n",
    "    W1, b1, W2, b2 = init_params() #Initialise weights and biases\n",
    "    for i in range(iterations):\n",
    "        Z1, A1, Z2, A2 = forward_prop(W1, b1, W2, b2, X)\n",
    "        dW1, db1, dW2, db2 = backward_prop(Z1, A1, Z2, A2, W1, W2, X, Y)\n",
    "        W1, b1, W2, b2 = update_params(W1, b1, W2, b2, dW1, db1, dW2, db2, alpha)\n",
    "        if i % 10 == 0:\n",
    "            print(\"Iteration: \", i)\n",
    "            predictions = get_predictions(A2)\n",
    "            print(get_accuracy(predictions, Y))\n",
    "    return W1, b1, W2, b2"
   ]
  },
  {
   "cell_type": "code",
   "execution_count": 21,
   "metadata": {},
   "outputs": [
    {
     "name": "stdout",
     "output_type": "stream",
     "text": [
      "Iteration:  0\n",
      "[9 3 3 ... 4 3 4] [5 9 6 ... 9 4 7]\n",
      "0.10628813559322034\n",
      "Iteration:  10\n",
      "[9 9 9 ... 9 2 7] [5 9 6 ... 9 4 7]\n",
      "0.2734915254237288\n",
      "Iteration:  20\n",
      "[9 9 6 ... 9 2 7] [5 9 6 ... 9 4 7]\n",
      "0.38820338983050845\n",
      "Iteration:  30\n",
      "[8 9 6 ... 9 6 7] [5 9 6 ... 9 4 7]\n",
      "0.4942542372881356\n",
      "Iteration:  40\n",
      "[8 9 6 ... 9 4 7] [5 9 6 ... 9 4 7]\n",
      "0.5662203389830508\n",
      "Iteration:  50\n",
      "[8 9 6 ... 9 4 7] [5 9 6 ... 9 4 7]\n",
      "0.5933220338983051\n",
      "Iteration:  60\n",
      "[8 9 4 ... 9 4 7] [5 9 6 ... 9 4 7]\n",
      "0.6081016949152542\n",
      "Iteration:  70\n",
      "[8 9 4 ... 9 4 7] [5 9 6 ... 9 4 7]\n",
      "0.6187796610169491\n",
      "Iteration:  80\n",
      "[8 9 4 ... 9 4 7] [5 9 6 ... 9 4 7]\n",
      "0.6273559322033898\n",
      "Iteration:  90\n",
      "[8 9 4 ... 9 4 7] [5 9 6 ... 9 4 7]\n",
      "0.6351864406779661\n",
      "Iteration:  100\n",
      "[8 9 4 ... 9 4 7] [5 9 6 ... 9 4 7]\n",
      "0.6427796610169492\n",
      "Iteration:  110\n",
      "[8 9 4 ... 9 4 7] [5 9 6 ... 9 4 7]\n",
      "0.6488305084745762\n",
      "Iteration:  120\n",
      "[8 9 4 ... 9 4 7] [5 9 6 ... 9 4 7]\n",
      "0.6543220338983051\n",
      "Iteration:  130\n",
      "[8 9 4 ... 9 4 7] [5 9 6 ... 9 4 7]\n",
      "0.6595254237288135\n",
      "Iteration:  140\n",
      "[8 9 4 ... 9 4 7] [5 9 6 ... 9 4 7]\n",
      "0.6647457627118644\n",
      "Iteration:  150\n",
      "[8 9 4 ... 9 4 7] [5 9 6 ... 9 4 7]\n",
      "0.6694745762711865\n",
      "Iteration:  160\n",
      "[8 9 4 ... 9 4 7] [5 9 6 ... 9 4 7]\n",
      "0.6736610169491526\n",
      "Iteration:  170\n",
      "[8 9 4 ... 9 4 7] [5 9 6 ... 9 4 7]\n",
      "0.6773898305084746\n",
      "Iteration:  180\n",
      "[8 9 4 ... 9 4 7] [5 9 6 ... 9 4 7]\n",
      "0.6814915254237288\n",
      "Iteration:  190\n",
      "[8 9 4 ... 9 6 7] [5 9 6 ... 9 4 7]\n",
      "0.6822542372881356\n",
      "Iteration:  200\n",
      "[8 9 6 ... 9 6 7] [5 9 6 ... 9 4 7]\n",
      "0.6645254237288135\n",
      "Iteration:  210\n",
      "[8 9 6 ... 9 6 7] [5 9 6 ... 9 4 7]\n",
      "0.6733728813559322\n",
      "Iteration:  220\n",
      "[8 9 6 ... 9 6 7] [5 9 6 ... 9 4 7]\n",
      "0.6830847457627118\n",
      "Iteration:  230\n",
      "[8 9 6 ... 9 6 7] [5 9 6 ... 9 4 7]\n",
      "0.6883389830508475\n",
      "Iteration:  240\n",
      "[8 9 6 ... 9 6 7] [5 9 6 ... 9 4 7]\n",
      "0.6928474576271186\n",
      "Iteration:  250\n",
      "[8 9 6 ... 9 6 7] [5 9 6 ... 9 4 7]\n",
      "0.697135593220339\n",
      "Iteration:  260\n",
      "[8 9 6 ... 9 6 7] [5 9 6 ... 9 4 7]\n",
      "0.7003728813559322\n",
      "Iteration:  270\n",
      "[8 9 6 ... 9 6 7] [5 9 6 ... 9 4 7]\n",
      "0.7037457627118644\n",
      "Iteration:  280\n",
      "[8 9 6 ... 9 6 7] [5 9 6 ... 9 4 7]\n",
      "0.7069152542372882\n",
      "Iteration:  290\n",
      "[8 9 6 ... 9 6 7] [5 9 6 ... 9 4 7]\n",
      "0.7095423728813559\n",
      "Iteration:  300\n",
      "[8 9 6 ... 9 6 7] [5 9 6 ... 9 4 7]\n",
      "0.7121864406779661\n",
      "Iteration:  310\n",
      "[8 9 6 ... 9 6 7] [5 9 6 ... 9 4 7]\n",
      "0.7146440677966102\n",
      "Iteration:  320\n",
      "[8 9 6 ... 9 6 7] [5 9 6 ... 9 4 7]\n",
      "0.7173559322033898\n",
      "Iteration:  330\n",
      "[8 9 6 ... 9 6 7] [5 9 6 ... 9 4 7]\n",
      "0.7202881355932204\n",
      "Iteration:  340\n",
      "[8 9 6 ... 9 6 7] [5 9 6 ... 9 4 7]\n",
      "0.7227118644067797\n",
      "Iteration:  350\n",
      "[8 9 6 ... 9 6 7] [5 9 6 ... 9 4 7]\n",
      "0.725457627118644\n",
      "Iteration:  360\n",
      "[8 9 6 ... 9 6 7] [5 9 6 ... 9 4 7]\n",
      "0.7277457627118644\n",
      "Iteration:  370\n",
      "[8 9 6 ... 9 6 7] [5 9 6 ... 9 4 7]\n",
      "0.7303728813559323\n",
      "Iteration:  380\n",
      "[8 9 6 ... 9 6 7] [5 9 6 ... 9 4 7]\n",
      "0.7326779661016949\n",
      "Iteration:  390\n",
      "[8 9 6 ... 9 6 7] [5 9 6 ... 9 4 7]\n",
      "0.7347118644067797\n",
      "Iteration:  400\n",
      "[8 9 6 ... 9 6 7] [5 9 6 ... 9 4 7]\n",
      "0.7365254237288136\n",
      "Iteration:  410\n",
      "[8 9 6 ... 9 6 7] [5 9 6 ... 9 4 7]\n",
      "0.738864406779661\n",
      "Iteration:  420\n",
      "[8 9 6 ... 9 6 7] [5 9 6 ... 9 4 7]\n",
      "0.7406779661016949\n",
      "Iteration:  430\n",
      "[8 9 6 ... 9 6 7] [5 9 6 ... 9 4 7]\n",
      "0.7427288135593221\n",
      "Iteration:  440\n",
      "[8 9 6 ... 9 6 7] [5 9 6 ... 9 4 7]\n",
      "0.7446101694915255\n",
      "Iteration:  450\n",
      "[8 9 6 ... 9 6 7] [5 9 6 ... 9 4 7]\n",
      "0.7461525423728813\n",
      "Iteration:  460\n",
      "[8 9 6 ... 9 6 7] [5 9 6 ... 9 4 7]\n",
      "0.747593220338983\n",
      "Iteration:  470\n",
      "[8 9 6 ... 9 6 7] [5 9 6 ... 9 4 7]\n",
      "0.7491016949152542\n",
      "Iteration:  480\n",
      "[8 9 6 ... 9 6 7] [5 9 6 ... 9 4 7]\n",
      "0.750542372881356\n",
      "Iteration:  490\n",
      "[8 9 6 ... 9 6 7] [5 9 6 ... 9 4 7]\n",
      "0.7520847457627119\n",
      "Iteration:  500\n",
      "[8 9 6 ... 9 6 7] [5 9 6 ... 9 4 7]\n",
      "0.7533728813559322\n",
      "Iteration:  510\n",
      "[8 9 6 ... 9 6 7] [5 9 6 ... 9 4 7]\n",
      "0.755135593220339\n",
      "Iteration:  520\n",
      "[8 9 6 ... 9 6 7] [5 9 6 ... 9 4 7]\n",
      "0.7564237288135593\n",
      "Iteration:  530\n",
      "[8 9 6 ... 9 6 7] [5 9 6 ... 9 4 7]\n",
      "0.7577966101694915\n",
      "Iteration:  540\n",
      "[8 9 6 ... 9 6 7] [5 9 6 ... 9 4 7]\n",
      "0.7589152542372881\n",
      "Iteration:  550\n",
      "[8 9 6 ... 9 6 7] [5 9 6 ... 9 4 7]\n",
      "0.7603389830508475\n",
      "Iteration:  560\n",
      "[8 9 6 ... 9 6 7] [5 9 6 ... 9 4 7]\n",
      "0.7616440677966102\n",
      "Iteration:  570\n",
      "[8 9 6 ... 9 6 7] [5 9 6 ... 9 4 7]\n",
      "0.7629322033898305\n",
      "Iteration:  580\n",
      "[8 9 6 ... 9 6 7] [5 9 6 ... 9 4 7]\n",
      "0.7644576271186441\n",
      "Iteration:  590\n",
      "[8 9 6 ... 9 6 7] [5 9 6 ... 9 4 7]\n",
      "0.7654915254237288\n",
      "Iteration:  600\n",
      "[8 9 6 ... 9 6 7] [5 9 6 ... 9 4 7]\n",
      "0.7667457627118645\n",
      "Iteration:  610\n",
      "[8 9 6 ... 9 6 7] [5 9 6 ... 9 4 7]\n",
      "0.7678813559322034\n",
      "Iteration:  620\n",
      "[8 9 6 ... 9 6 7] [5 9 6 ... 9 4 7]\n",
      "0.7688813559322034\n",
      "Iteration:  630\n",
      "[8 9 6 ... 9 6 7] [5 9 6 ... 9 4 7]\n",
      "0.7701864406779662\n",
      "Iteration:  640\n",
      "[8 9 6 ... 9 6 7] [5 9 6 ... 9 4 7]\n",
      "0.7711864406779662\n",
      "Iteration:  650\n",
      "[8 9 6 ... 9 6 7] [5 9 6 ... 9 4 7]\n",
      "0.7722033898305085\n",
      "Iteration:  660\n",
      "[8 9 6 ... 9 6 7] [5 9 6 ... 9 4 7]\n",
      "0.7729491525423728\n",
      "Iteration:  670\n",
      "[8 9 6 ... 9 6 7] [5 9 6 ... 9 4 7]\n",
      "0.7741186440677966\n",
      "Iteration:  680\n",
      "[8 9 6 ... 9 6 7] [5 9 6 ... 9 4 7]\n",
      "0.7750847457627119\n",
      "Iteration:  690\n",
      "[8 9 6 ... 9 6 7] [5 9 6 ... 9 4 7]\n",
      "0.7760338983050847\n",
      "Iteration:  700\n",
      "[8 9 6 ... 9 6 7] [5 9 6 ... 9 4 7]\n",
      "0.7771016949152543\n",
      "Iteration:  710\n",
      "[8 9 6 ... 9 6 7] [5 9 6 ... 9 4 7]\n",
      "0.7780847457627119\n",
      "Iteration:  720\n",
      "[8 9 6 ... 9 6 7] [5 9 6 ... 9 4 7]\n",
      "0.7791525423728813\n",
      "Iteration:  730\n",
      "[8 9 6 ... 9 6 7] [5 9 6 ... 9 4 7]\n",
      "0.7798135593220339\n",
      "Iteration:  740\n",
      "[8 9 6 ... 9 6 7] [5 9 6 ... 9 4 7]\n",
      "0.7809661016949152\n",
      "Iteration:  750\n",
      "[8 9 6 ... 9 6 7] [5 9 6 ... 9 4 7]\n",
      "0.781542372881356\n",
      "Iteration:  760\n",
      "[8 9 6 ... 9 6 7] [5 9 6 ... 9 4 7]\n",
      "0.7825084745762712\n",
      "Iteration:  770\n",
      "[8 9 6 ... 9 6 7] [5 9 6 ... 9 4 7]\n",
      "0.7833898305084745\n",
      "Iteration:  780\n",
      "[8 9 6 ... 9 6 7] [5 9 6 ... 9 4 7]\n",
      "0.7841694915254237\n",
      "Iteration:  790\n",
      "[8 9 6 ... 9 6 7] [5 9 6 ... 9 4 7]\n",
      "0.7847627118644068\n",
      "Iteration:  800\n",
      "[8 9 6 ... 9 6 7] [5 9 6 ... 9 4 7]\n",
      "0.7854406779661017\n",
      "Iteration:  810\n",
      "[8 9 6 ... 9 6 7] [5 9 6 ... 9 4 7]\n",
      "0.7863220338983051\n",
      "Iteration:  820\n",
      "[8 9 6 ... 9 6 7] [5 9 6 ... 9 4 7]\n",
      "0.7869322033898305\n",
      "Iteration:  830\n",
      "[8 9 6 ... 9 6 7] [5 9 6 ... 9 4 7]\n",
      "0.7875254237288135\n",
      "Iteration:  840\n",
      "[8 9 6 ... 9 6 7] [5 9 6 ... 9 4 7]\n",
      "0.7882542372881356\n",
      "Iteration:  850\n",
      "[8 9 6 ... 9 6 7] [5 9 6 ... 9 4 7]\n",
      "0.7890677966101695\n",
      "Iteration:  860\n",
      "[8 9 6 ... 9 6 7] [5 9 6 ... 9 4 7]\n",
      "0.7897457627118644\n",
      "Iteration:  870\n",
      "[8 9 6 ... 9 6 7] [5 9 6 ... 9 4 7]\n",
      "0.7901016949152543\n",
      "Iteration:  880\n",
      "[8 9 6 ... 9 6 7] [5 9 6 ... 9 4 7]\n",
      "0.7906779661016949\n",
      "Iteration:  890\n",
      "[8 9 6 ... 9 6 7] [5 9 6 ... 9 4 7]\n",
      "0.7912542372881356\n",
      "Iteration:  900\n",
      "[8 9 6 ... 9 6 7] [5 9 6 ... 9 4 7]\n",
      "0.7918305084745763\n",
      "Iteration:  910\n",
      "[8 9 6 ... 9 6 7] [5 9 6 ... 9 4 7]\n",
      "0.7923050847457627\n",
      "Iteration:  920\n",
      "[8 9 6 ... 9 6 7] [5 9 6 ... 9 4 7]\n",
      "0.7927966101694915\n",
      "Iteration:  930\n",
      "[8 9 6 ... 9 6 7] [5 9 6 ... 9 4 7]\n",
      "0.7935254237288135\n",
      "Iteration:  940\n",
      "[8 9 6 ... 9 6 7] [5 9 6 ... 9 4 7]\n",
      "0.7940677966101695\n",
      "Iteration:  950\n",
      "[8 9 6 ... 9 6 7] [5 9 6 ... 9 4 7]\n",
      "0.7943389830508475\n",
      "Iteration:  960\n",
      "[8 9 6 ... 9 6 7] [5 9 6 ... 9 4 7]\n",
      "0.7949661016949152\n",
      "Iteration:  970\n",
      "[8 9 6 ... 9 6 7] [5 9 6 ... 9 4 7]\n",
      "0.7954915254237288\n",
      "Iteration:  980\n",
      "[8 9 6 ... 9 6 7] [5 9 6 ... 9 4 7]\n",
      "0.7960169491525424\n",
      "Iteration:  990\n",
      "[8 9 6 ... 9 6 7] [5 9 6 ... 9 4 7]\n",
      "0.796677966101695\n",
      "Iteration:  1000\n",
      "[8 9 6 ... 9 6 7] [5 9 6 ... 9 4 7]\n",
      "0.7973220338983051\n",
      "Iteration:  1010\n",
      "[8 9 6 ... 9 6 7] [5 9 6 ... 9 4 7]\n",
      "0.7978983050847458\n",
      "Iteration:  1020\n",
      "[8 9 6 ... 9 6 7] [5 9 6 ... 9 4 7]\n",
      "0.7984237288135593\n",
      "Iteration:  1030\n",
      "[8 9 6 ... 9 6 7] [5 9 6 ... 9 4 7]\n",
      "0.7989830508474576\n",
      "Iteration:  1040\n",
      "[8 9 6 ... 9 6 7] [5 9 6 ... 9 4 7]\n",
      "0.7996949152542373\n",
      "Iteration:  1050\n",
      "[8 9 6 ... 9 6 7] [5 9 6 ... 9 4 7]\n",
      "0.8\n",
      "Iteration:  1060\n",
      "[8 9 6 ... 9 6 7] [5 9 6 ... 9 4 7]\n",
      "0.800677966101695\n",
      "Iteration:  1070\n",
      "[8 9 6 ... 9 6 7] [5 9 6 ... 9 4 7]\n",
      "0.8012372881355933\n",
      "Iteration:  1080\n",
      "[8 9 6 ... 9 6 7] [5 9 6 ... 9 4 7]\n",
      "0.8017118644067797\n",
      "Iteration:  1090\n",
      "[8 9 6 ... 9 6 7] [5 9 6 ... 9 4 7]\n",
      "0.8022203389830509\n",
      "Iteration:  1100\n",
      "[8 9 6 ... 9 6 7] [5 9 6 ... 9 4 7]\n",
      "0.8027118644067797\n",
      "Iteration:  1110\n",
      "[8 9 6 ... 9 6 7] [5 9 6 ... 9 4 7]\n",
      "0.8031525423728814\n",
      "Iteration:  1120\n",
      "[8 9 6 ... 9 6 7] [5 9 6 ... 9 4 7]\n",
      "0.8036440677966101\n",
      "Iteration:  1130\n",
      "[8 9 6 ... 9 6 7] [5 9 6 ... 9 4 7]\n",
      "0.8038305084745763\n",
      "Iteration:  1140\n",
      "[8 9 6 ... 9 6 7] [5 9 6 ... 9 4 7]\n",
      "0.8041864406779661\n",
      "Iteration:  1150\n",
      "[8 9 6 ... 9 6 7] [5 9 6 ... 9 4 7]\n",
      "0.8046271186440678\n",
      "Iteration:  1160\n",
      "[8 9 6 ... 9 6 7] [5 9 6 ... 9 4 7]\n",
      "0.8052542372881356\n",
      "Iteration:  1170\n",
      "[5 9 6 ... 9 6 7] [5 9 6 ... 9 4 7]\n",
      "0.8056440677966101\n",
      "Iteration:  1180\n",
      "[5 9 6 ... 9 6 7] [5 9 6 ... 9 4 7]\n",
      "0.8058813559322033\n",
      "Iteration:  1190\n",
      "[5 9 6 ... 9 6 7] [5 9 6 ... 9 4 7]\n",
      "0.8063559322033899\n",
      "Iteration:  1200\n",
      "[5 9 6 ... 9 6 7] [5 9 6 ... 9 4 7]\n",
      "0.8067796610169492\n",
      "Iteration:  1210\n",
      "[5 9 6 ... 9 6 7] [5 9 6 ... 9 4 7]\n",
      "0.8068983050847458\n",
      "Iteration:  1220\n",
      "[5 9 6 ... 9 6 7] [5 9 6 ... 9 4 7]\n",
      "0.8074067796610169\n",
      "Iteration:  1230\n",
      "[5 9 6 ... 9 6 7] [5 9 6 ... 9 4 7]\n",
      "0.807728813559322\n",
      "Iteration:  1240\n",
      "[5 9 6 ... 9 6 7] [5 9 6 ... 9 4 7]\n",
      "0.8079152542372882\n"
     ]
    }
   ],
   "source": [
    "W1, b1, W2, b2 = gradient_descent(X_train, Y_train, 0.1, 1250)"
   ]
  },
  {
   "attachments": {},
   "cell_type": "markdown",
   "metadata": {},
   "source": [
    "Model works at 81% accuracy at 1250 iterations, LR = 0.1"
   ]
  },
  {
   "cell_type": "code",
   "execution_count": 22,
   "metadata": {},
   "outputs": [],
   "source": [
    "def make_predictions(X, W1, b1, W2, b2):\n",
    "    _, _, _, A2 = forward_prop(W1, b1, W2, b2, X)\n",
    "    predictions = get_predictions(A2)\n",
    "    return predictions\n",
    "\n",
    "def test_prediction(index, W1, b1, W2, b2):\n",
    "    current_image = X_train[:, index, None]\n",
    "    prediction = make_predictions(X_train[:, index, None], W1, b1, W2, b2)\n",
    "    label = Y_train[index]\n",
    "    print(\"Prediction: \", prediction)\n",
    "    print(\"Label: \", label)\n",
    "    \n",
    "    current_image = current_image.reshape((28, 28)) * 255\n",
    "    plt.gray()\n",
    "    plt.imshow(current_image, interpolation='nearest')\n",
    "    plt.show()"
   ]
  },
  {
   "cell_type": "code",
   "execution_count": 61,
   "metadata": {},
   "outputs": [
    {
     "name": "stdout",
     "output_type": "stream",
     "text": [
      "Prediction:  [5]\n",
      "Label:  5\n"
     ]
    },
    {
     "data": {
      "image/png": "[encoded data removed]",
      "text/plain": [
       "<Figure size 640x480 with 1 Axes>"
      ]
     },
     "metadata": {},
     "output_type": "display_data"
    },
    {
     "name": "stdout",
     "output_type": "stream",
     "text": [
      "Prediction:  [9]\n",
      "Label:  9\n"
     ]
    },
    {
     "data": {
      "image/png": "[encoded data removed]",
      "text/plain": [
       "<Figure size 640x480 with 1 Axes>"
      ]
     },
     "metadata": {},
     "output_type": "display_data"
    },
    {
     "name": "stdout",
     "output_type": "stream",
     "text": [
      "Prediction:  [6]\n",
      "Label:  6\n"
     ]
    },
    {
     "data": {
      "image/png": "[encoded data removed]",
      "text/plain": [
       "<Figure size 640x480 with 1 Axes>"
      ]
     },
     "metadata": {},
     "output_type": "display_data"
    },
    {
     "name": "stdout",
     "output_type": "stream",
     "text": [
      "Prediction:  [9]\n",
      "Label:  9\n"
     ]
    },
    {
     "data": {
      "image/png": "[encoded data removed]",
      "text/plain": [
       "<Figure size 640x480 with 1 Axes>"
      ]
     },
     "metadata": {},
     "output_type": "display_data"
    },
    {
     "name": "stdout",
     "output_type": "stream",
     "text": [
      "Prediction:  [6]\n",
      "Label:  6\n"
     ]
    },
    {
     "data": {
      "image/png": "[encoded data removed]",
      "text/plain": [
       "<Figure size 640x480 with 1 Axes>"
      ]
     },
     "metadata": {},
     "output_type": "display_data"
    },
    {
     "name": "stdout",
     "output_type": "stream",
     "text": [
      "Prediction:  [3]\n",
      "Label:  3\n"
     ]
    },
    {
     "data": {
      "image/png": "[encoded data removed]",
      "text/plain": [
       "<Figure size 640x480 with 1 Axes>"
      ]
     },
     "metadata": {},
     "output_type": "display_data"
    },
    {
     "name": "stdout",
     "output_type": "stream",
     "text": [
      "Prediction:  [7]\n",
      "Label:  7\n"
     ]
    },
    {
     "data": {
      "image/png": "[encoded data removed]",
      "text/plain": [
       "<Figure size 640x480 with 1 Axes>"
      ]
     },
     "metadata": {},
     "output_type": "display_data"
    },
    {
     "name": "stdout",
     "output_type": "stream",
     "text": [
      "Prediction:  [7]\n",
      "Label:  7\n"
     ]
    },
    {
     "data": {
      "image/png": "[encoded data removed]",
      "text/plain": [
       "<Figure size 640x480 with 1 Axes>"
      ]
     },
     "metadata": {},
     "output_type": "display_data"
    },
    {
     "name": "stdout",
     "output_type": "stream",
     "text": [
      "Prediction:  [5]\n",
      "Label:  5\n"
     ]
    },
    {
     "data": {
      "image/png": "[encoded data removed]",
      "text/plain": [
       "<Figure size 640x480 with 1 Axes>"
      ]
     },
     "metadata": {},
     "output_type": "display_data"
    },
    {
     "name": "stdout",
     "output_type": "stream",
     "text": [
      "Prediction:  [0]\n",
      "Label:  3\n"
     ]
    },
    {
     "data": {
      "image/png": "[encoded data removed]",
      "text/plain": [
       "<Figure size 640x480 with 1 Axes>"
      ]
     },
     "metadata": {},
     "output_type": "display_data"
    }
   ],
   "source": [
    "for i in range(10):\n",
    "    test_prediction(i, W1, b1, W2, b2)"
   ]
  },
  {
   "cell_type": "code",
   "execution_count": 24,
   "metadata": {},
   "outputs": [
    {
     "name": "stdout",
     "output_type": "stream",
     "text": [
      "[3 0 6 0 5 2 6 4 9 0 1 4 3 8 4 2 0 6 8 0 1 5 4 0 2 3 2 8 3 5 5 8 0 2 1 9 6\n",
      " 6 6 2 0 2 6 8 7 1 1 0 5 6 4 0 4 9 8 7 3 2 2 8 9 7 5 6 1 2 3 8 2 4 0 3 9 5\n",
      " 2 7 3 4 3 1 1 7 5 1 5 7 8 9 8 8 8 2 6 0 6 4 3 9 9 3 2 7 1 1 7 5 8 9 2 7 4\n",
      " 4 4 6 6 4 9 7 4 1 4 3 9 4 7 9 3 0 9 3 8 1 2 8 6 9 3 5 3 0 7 9 7 3 4 9 4 3\n",
      " 0 4 0 3 2 7 8 2 4 1 3 7 1 3 7 5 3 1 1 1 4 6 7 2 4 1 6 8 4 1 4 7 0 5 1 1 5\n",
      " 7 4 5 6 3 0 0 3 2 7 0 4 2 8 7 9 3 5 6 4 3 2 5 0 0 3 7 6 3 3 0 7 1 0 9 5 0\n",
      " 5 7 2 0 7 2 6 5 4 5 4 7 4 9 3 2 8 7 5 8 9 3 0 2 2 7 2 6 9 0 7 5 2 8 1 0 1\n",
      " 7 2 4 1 5 3 9 3 4 1 0 8 2 4 5 8 2 0 0 9 2 2 6 7 1 1 2 7 2 8 8 9 1 3 8 8 7\n",
      " 9 4 0 8 8 9 2 0 5 7 8 9 4 8 2 5 0 6 5 9 5 4 2 3 6 6 5 3 8 9 8 6 6 7 0 2 8\n",
      " 0 6 5 0 2 8 6 4 8 4 1 0 0 0 9 7 0 2 8 0 5 2 1 3 1 7 5 1 1 2 0 9 8 3 6 2 2\n",
      " 2 9 3 7 1 7 7 2 9 0 3 0 8 7 7 4 9 2 3 1 8 4 7 0 8 9 7 6 9 6 3 1 1 2 2 1 2\n",
      " 6 5 8 7 6 1 0 7 7 6 9 9 6 5 2 5 9 4 0 9 7 3 8 5 3 9 7 2 4 3 5 1 3 7 2 2 7\n",
      " 1 0 0 8 1 4 8 3 5 3 7 7 8 9 1 2 9 5 0 9 1 1 4 4 8 0 2 5 2 1 6 2 6 9 3 7 3\n",
      " 3 4 3 6 6 4 3 0 7 8 7 9 8 0 4 1 1 6 3 7 1 8 8 0 9 4 2 8 3 1 1 9 6 6 4 7 2\n",
      " 4 3 2 7 6 6 9 0 2 7 5 4 4 7 4 2 5 5 9 6 5 6 6 5 9 2 0 7 5 7 1 4 0 1 1 0 4\n",
      " 3 2 9 7 9 7 5 6 3 5 3 5 6 0 5 2 6 6 7 7 5 5 1 3 2 0 2 8 9 5 9 3 6 0 7 5 9\n",
      " 6 0 1 9 6 1 9 9 9 7 9 8 6 1 3 1 2 6 4 6 0 0 5 3 1 7 1 4 6 6 2 5 5 1 3 7 8\n",
      " 2 0 6 7 3 2 7 1 1 2 4 0 2 2 0 7 8 8 2 3 5 5 2 1 1 1 8 5 4 8 6 0 8 8 0 6 1\n",
      " 2 5 0 7 4 6 6 0 2 0 8 2 3 4 3 9 2 9 9 3 5 3 2 6 8 9 4 7 5 3 7 7 2 6 2 2 7\n",
      " 2 1 9 7 4 6 7 9 6 5 3 8 7 2 7 8 8 9 2 3 8 8 6 4 2 8 7 4 3 0 8 9 4 6 2 4 1\n",
      " 2 5 7 7 2 7 2 5 5 4 8 0 7 2 2 4 8 5 7 0 2 9 1 0 5 3 1 9 4 8 7 9 9 8 3 9 7\n",
      " 6 4 0 0 4 0 3 1 2 0 9 7 1 7 6 8 4 3 9 5 2 8 6 1 8 6 1 4 5 0 9 1 9 8 3 3 6\n",
      " 1 1 0 5 6 4 6 9 0 2 7 8 3 3 2 4 3 6 1 3 8 5 2 4 9 4 3 7 6 2 3 0 2 0 7 2 3\n",
      " 0 4 5 4 2 9 3 7 8 7 4 4 4 6 9 3 8 8 4 9 3 8 2 4 4 4 3 7 2 8 4 9 9 1 9 0 9\n",
      " 1 8 8 2 0 1 5 1 2 3 5 6 9 2 4 8 0 3 4 2 0 3 6 8 8 3 6 6 0 0 9 2 5 6 6 2 9\n",
      " 0 7 2 9 7 2 0 9 0 9 0 7 4 5 2 1 1 3 0 5 2 3 6 8 9 9 2 4 3 3 4 9 5 9 4 4 5\n",
      " 8 0 5 8 7 7 9 2 2 9 4 1 0 3 2 9 7 4 5 1 7 1 5 9 3 4 3 4 7 8 4 9 0 6 2 0 3\n",
      " 9] [3 0 4 0 5 2 6 4 9 0 1 4 6 5 2 6 2 6 8 0 1 9 2 6 2 3 2 8 3 5 7 8 6 2 1 9 3\n",
      " 4 6 2 0 2 4 8 9 1 3 0 5 0 2 0 4 9 8 7 3 4 2 8 9 7 7 4 1 2 3 8 6 2 0 3 9 5\n",
      " 2 7 0 4 3 1 1 7 5 1 7 7 8 9 0 8 8 2 6 0 6 2 3 9 9 3 6 7 1 1 7 5 8 9 4 7 6\n",
      " 3 4 6 6 6 9 7 4 1 4 0 7 2 5 9 3 0 9 3 8 1 4 8 6 9 3 9 3 0 7 9 7 3 4 5 4 3\n",
      " 6 4 6 3 6 9 8 2 4 1 3 7 1 3 7 5 4 1 1 1 2 8 7 2 4 3 0 8 4 1 2 8 0 5 1 1 5\n",
      " 7 4 5 6 3 0 0 3 2 7 0 4 2 8 7 9 3 5 6 4 3 2 7 0 0 3 7 6 3 4 0 7 1 0 7 5 0\n",
      " 5 7 2 0 7 4 2 7 2 8 4 7 4 9 3 4 8 5 5 8 9 4 0 2 2 7 0 6 9 0 7 5 6 8 1 0 1\n",
      " 7 4 4 1 9 3 9 1 4 1 0 8 2 4 5 8 2 0 0 9 4 6 6 7 1 1 4 7 2 8 8 9 3 3 8 8 9\n",
      " 9 4 3 8 8 9 2 0 5 7 8 9 4 8 4 5 2 6 5 9 5 2 6 3 4 6 5 3 8 9 8 3 6 7 0 6 8\n",
      " 0 6 5 6 4 8 4 4 8 4 1 0 0 0 9 7 0 2 8 0 7 0 1 4 1 5 5 1 1 2 0 9 8 3 6 4 2\n",
      " 2 9 3 7 1 5 7 2 9 0 3 0 8 5 7 6 9 6 3 1 8 4 5 0 8 9 9 6 9 6 3 1 1 2 2 1 4\n",
      " 6 5 6 9 2 1 3 7 7 6 9 9 2 5 2 7 9 4 3 9 7 1 8 5 3 9 5 2 4 3 5 1 0 5 2 4 9\n",
      " 1 3 0 8 1 4 8 3 5 3 7 7 8 9 0 2 9 5 0 9 1 1 4 4 8 0 2 5 2 1 6 2 6 9 3 7 3\n",
      " 3 4 3 6 2 2 6 0 7 8 7 9 8 0 2 1 1 4 3 7 1 6 8 6 9 4 6 8 3 1 1 9 0 6 4 7 2\n",
      " 6 3 2 7 6 6 9 0 4 7 5 4 4 5 4 2 5 5 9 6 5 6 0 5 9 2 0 7 5 7 1 4 0 1 1 0 4\n",
      " 3 2 9 7 9 7 7 6 3 5 3 5 3 0 5 2 3 6 7 7 5 5 1 3 2 0 2 8 9 5 9 3 6 6 7 5 7\n",
      " 2 6 1 9 6 1 9 9 9 7 9 8 2 1 3 1 2 0 4 6 0 0 5 3 0 7 1 4 2 6 2 7 9 1 3 7 8\n",
      " 2 0 0 7 0 6 7 1 1 2 2 0 2 2 0 7 8 8 2 3 5 9 2 1 1 1 8 8 4 8 0 0 8 8 0 0 1\n",
      " 1 5 6 9 2 6 6 0 4 0 8 6 3 4 3 9 2 9 9 3 5 3 6 6 8 9 4 7 5 3 5 7 2 4 2 2 7\n",
      " 2 1 9 7 4 6 7 9 4 5 1 8 7 4 7 8 8 9 2 3 8 8 2 4 2 8 7 4 0 0 8 9 4 4 2 4 3\n",
      " 1 5 7 7 6 7 2 5 5 4 8 0 7 2 2 4 8 5 7 6 2 9 1 0 5 3 1 9 2 8 7 9 9 9 3 9 7\n",
      " 2 4 0 0 4 6 3 1 0 0 5 7 1 7 6 8 4 3 9 5 2 8 6 1 8 6 1 6 5 0 9 1 9 8 3 4 6\n",
      " 1 1 0 5 2 4 6 7 0 6 7 8 6 3 6 4 3 4 1 3 8 5 2 4 9 4 3 7 6 2 3 6 2 6 7 2 3\n",
      " 0 4 5 6 4 9 3 7 8 7 3 4 6 6 9 3 8 8 3 9 3 7 2 4 4 4 3 7 2 8 6 9 9 1 9 2 9\n",
      " 1 8 8 2 0 1 5 1 2 3 5 6 9 4 4 5 0 3 3 6 6 3 6 8 8 3 6 2 0 0 9 2 5 0 6 2 9\n",
      " 0 7 6 5 9 6 0 9 6 9 0 7 6 7 2 1 1 3 0 5 2 3 6 8 9 9 4 4 3 3 2 9 5 9 4 4 5\n",
      " 8 0 5 1 7 7 7 2 2 9 4 1 0 3 2 9 7 4 5 1 5 1 5 9 3 4 3 2 7 8 2 9 0 6 6 0 3\n",
      " 9]\n"
     ]
    },
    {
     "data": {
      "text/plain": [
       "0.792"
      ]
     },
     "execution_count": 24,
     "metadata": {},
     "output_type": "execute_result"
    }
   ],
   "source": [
    "dev_predictions = make_predictions(X_dev, W1, b1, W2, b2)\n",
    "get_accuracy(dev_predictions, Y_dev)"
   ]
  },
  {
   "attachments": {},
   "cell_type": "markdown",
   "metadata": {},
   "source": [
    "Even on Dev set, it shows an accuracy of 80%, meaning the model is very well generalised."
   ]
  },
  {
   "cell_type": "code",
   "execution_count": 58,
   "metadata": {},
   "outputs": [
    {
     "name": "stdout",
     "output_type": "stream",
     "text": [
      "[0 1 0 ... 5 0 0] [0 1 2 ... 8 8 1]\n"
     ]
    },
    {
     "name": "stderr",
     "output_type": "stream",
     "text": [
      "C:\\Users\\User\\AppData\\Local\\Temp\\ipykernel_15656\\3962810796.py:12: RuntimeWarning: overflow encountered in exp\n",
      "  A = np.exp(Z) / sum(np.exp(Z))\n",
      "C:\\Users\\User\\AppData\\Local\\Temp\\ipykernel_15656\\3962810796.py:12: RuntimeWarning: invalid value encountered in true_divide\n",
      "  A = np.exp(Z) / sum(np.exp(Z))\n"
     ]
    },
    {
     "data": {
      "text/plain": [
       "0.3322"
      ]
     },
     "execution_count": 58,
     "metadata": {},
     "output_type": "execute_result"
    }
   ],
   "source": [
    "test_predictions = make_predictions(X_test, W1, b1, W2, b2)\n",
    "get_accuracy(test_predictions, Y_test)"
   ]
  },
  {
   "attachments": {},
   "cell_type": "markdown",
   "metadata": {},
   "source": [
    "this error is the reason i split train into dev, rather than sticking to provided test set."
   ]
  }
 ],
 "metadata": {
  "kernelspec": {
   "display_name": "base",
   "language": "python",
   "name": "python3"
  },
  "language_info": {
   "codemirror_mode": {
    "name": "ipython",
    "version": 3
   },
   "file_extension": ".py",
   "mimetype": "text/x-python",
   "name": "python",
   "nbconvert_exporter": "python",
   "pygments_lexer": "ipython3",
   "version": "3.9.13"
  },
  "orig_nbformat": 4,
  "vscode": {
   "interpreter": {
    "hash": "f08154012ddadd8e950e6e9e035c7a7b32c136e7647e9b7c77e02eb723a8bedb"
   }
  }
 },
 "nbformat": 4,
 "nbformat_minor": 2
}
